{
 "cells": [
  {
   "cell_type": "code",
   "execution_count": 1,
   "id": "c3bde7c5-d18b-45f6-a017-7f662032a813",
   "metadata": {},
   "outputs": [],
   "source": [
    "#Q1. Explain class and object with respect to object_oriented programming. give a suitable example.\n",
    "\n",
    "\"\"\"Ans. A class is a user - defined blueprint or prototype from which objects are created.\n",
    "Classes provide a means of bundling data and fuctionality together. ctreeating a new \n",
    "class creates a new type of object, allowing new instance of that type to be made. Each class\n",
    "instance can have attributes attached to it for maintaing its state. class instance can also\n",
    "have methods(defined by their class) for modifying thier state\"\"\"\n",
    "\n",
    "#Example:\n",
    "#defining a class of a dog:\n",
    "\n",
    "class dog:\n",
    "    pass\n"
   ]
  },
  {
   "cell_type": "code",
   "execution_count": 4,
   "id": "c88a2baa-7b30-4ff0-97c3-e6661c826027",
   "metadata": {},
   "outputs": [
    {
     "name": "stdout",
     "output_type": "stream",
     "text": [
      "tommy details:\n",
      "tommy is a dog\n",
      "breed: pug\n",
      "color: brown\n",
      "hitler details:\n",
      "hitler is a dog\n",
      "breed: bulldog\n",
      "color: black\n",
      "Accessing class variables using class name\n",
      "dog\n"
     ]
    }
   ],
   "source": [
    "class dog:\n",
    "     #a simple class\n",
    "    # attribute\n",
    "    animal = 'dog'\n",
    "    \n",
    "    def __init__(self, breed ,color):\n",
    "        #instance variable\n",
    "        self.breed = breed\n",
    "        self.color = color\n",
    "tommy = dog(\"pug\",\"brown\")\n",
    "hitler = dog(\"bulldog\",\"black\")\n",
    "print('tommy details:')\n",
    "print('tommy is a', tommy.animal)\n",
    "print('breed:', tommy.breed)\n",
    "print('color:', tommy.color)\n",
    "\n",
    "print('hitler details:')\n",
    "print('hitler is a' , hitler.animal)\n",
    "print('breed:', hitler.breed)\n",
    "print('color:', hitler.color)\n",
    "\n",
    "#class variables can also be accessed using class name\n",
    "#name also\n",
    "\n",
    "print(\"Accessing class variables using class name\")\n",
    "print(dog.animal)"
   ]
  },
  {
   "cell_type": "code",
   "execution_count": null,
   "id": "17869e20-72e5-43ca-8994-50d0dc42a7da",
   "metadata": {},
   "outputs": [],
   "source": [
    "#Q2. Name the four pillars of Oops.\n",
    "\n",
    "\"\"\"Ans. the four pillers of Oops are:\n",
    "a: Inheritance (sharing of information)\n",
    "b: Encapsulation (Groping of information)\n",
    "c: Abstraction (Hiding of information)\n",
    "d: polymorphism (redefining of information)\"\"\""
   ]
  },
  {
   "cell_type": "code",
   "execution_count": 9,
   "id": "b0c257c6-0304-4e62-99c0-aa8850240127",
   "metadata": {},
   "outputs": [
    {
     "name": "stdout",
     "output_type": "stream",
     "text": [
      "rishikesh\n",
      "26\n"
     ]
    }
   ],
   "source": [
    "#Q3. Explain why the __init__() function is used. Give a suitable example.\n",
    "\n",
    "\"\"\"Ans. The examples above are classes and objects in their simplest form, and are not really useful in real life applications.\n",
    "\n",
    "To understand the meaning of classes we have to understand the built-in __init__() function.\n",
    "\n",
    "All classes have a function called __init__(), which is always executed when the class is being initiated.\n",
    "\n",
    "Use the __init__() function to assign values to object properties, or other operations that are necessary to do when the \n",
    "object is being created:\"\"\"\n",
    "\n",
    "#Example:\n",
    "class person:\n",
    "    def __init__(self, name, age):\n",
    "        self.name = name\n",
    "        self.age = age\n",
    "p1 = person(\"rishikesh\" , 26)\n",
    "print(p1.name)\n",
    "print(p1.age)\n"
   ]
  },
  {
   "cell_type": "code",
   "execution_count": 18,
   "id": "4b65f8c7-418a-4a21-b029-499ca1503230",
   "metadata": {},
   "outputs": [],
   "source": [
    "#Q4. Why self is used in Oops?\n",
    "\n",
    "\"\"\"Ans. self represents the instance of the class. By using the “self”  we can access the attributes and methods of the class\n",
    "in python. It binds the attributes with the given arguments.\n",
    "\n",
    "The reason you need to use self. is because Python does not use the @ syntax to refer to instance attributes\"\"\"\n",
    "\n",
    "#Example:\n",
    "\n",
    "class car():\n",
    "    pass\n",
    "    def __init__(self, model , color , seat):\n",
    "        self.model = model\n",
    "        self.color = color\n",
    "        self.seat = seat\n",
    "        \n",
    "    def show(self):\n",
    "        print(\"Model is \" , self.model )\n",
    "        print(\"color is \" , self.color )\n",
    "        print(\"seat is \", self.seat)\n",
    "        \n",
    "mahindra = car('scorpio', 'black' , 7)\n",
    "suzuki = car('alto' , 'red' , 5)\n",
    "royal_enfield = car('electra' , 'black' ,2)"
   ]
  },
  {
   "cell_type": "code",
   "execution_count": 21,
   "id": "a5900976-1def-48f9-b9d4-a28322dee128",
   "metadata": {},
   "outputs": [],
   "source": [
    "# Q5. What is inheritance? Give an exmple for each type of inheritance.\n",
    "\n",
    "\"\"\"Ans. Inheritance is a process of obtaining properties and characteristics(variables and methods) of another class.\n",
    "In this hierarchical order, the class which inherits another class is called subclass or child class, and the other \n",
    "class is the parent class.\n",
    "There are five types of inheritances:\n",
    "\n",
    "a. Single Inheritance\n",
    "b. Multiple Inheritance\n",
    "c. Multilevel Inheritance\n",
    "d. Hierarchical Inheritance\n",
    "e. Hybrid Inheritance\"\"\"\n",
    "\n",
    "#Example for single inheritance\n",
    "#parent class\n",
    "class Above:\n",
    "    i = 5\n",
    "    def fun1(self):\n",
    "        print('Hey there, you are in the parent class')\n",
    "\n",
    "#subclass\n",
    "class Below(Above):\n",
    "    i=10\n",
    "    def fun2(self):\n",
    "        print('Hey there, you are in the sub class')"
   ]
  },
  {
   "cell_type": "code",
   "execution_count": 23,
   "id": "d63be981-af8b-462a-8202-e5050a624d16",
   "metadata": {},
   "outputs": [],
   "source": [
    "#example for multiple inheritance\n",
    "#parent class 1\n",
    "class A:\n",
    "    demo1=0\n",
    "    def fun1(self):\n",
    "        print(self.demo1)\n",
    "\n",
    "#parent class 2\n",
    "class B:\n",
    "    demo2=0\n",
    "    def fun2(self):\n",
    "        print(self.demo2)\n",
    "\n",
    "#child class\n",
    "class C(A, B):\n",
    "    def fun3(self):\n",
    "        print('Hey there, you are in the child class')"
   ]
  },
  {
   "cell_type": "code",
   "execution_count": 25,
   "id": "263f7b26-229b-4f54-8b6e-f7c5ad0b02af",
   "metadata": {},
   "outputs": [],
   "source": [
    "#Example for multilevel inheritance\n",
    "#parent class 1\n",
    "class vehicle:\n",
    "    def functioning(self):\n",
    "        print(\"vehicles are used for transportation\")\n",
    "\n",
    "#child class 1\n",
    "class car(vehicle):\n",
    "    def wheels(self):\n",
    "        print(\"a car has 4 wheels\")\n",
    "       \n",
    "#child class 2\n",
    "class electric_car(car):\n",
    "    def speciality(self):\n",
    "        print(\"electric car runs on electricity\")"
   ]
  },
  {
   "cell_type": "code",
   "execution_count": 26,
   "id": "a9fc61dd-ecb0-49a5-a14c-3fc0d4884a75",
   "metadata": {},
   "outputs": [],
   "source": [
    "#Example for Hierarichal inheritance.\n",
    "#parent class\n",
    "class Parent:\n",
    "    def fun1(self):\n",
    "        print(\"Hey there, you are in the parent class\")\n",
    " \n",
    "#child class 1\n",
    "class child1(Parent):\n",
    "    def fun2(self):\n",
    "        print(\"Hey there, you are in the child class 1\")\n",
    "\n",
    "#child class 2 \n",
    "class child2(Parent):\n",
    "    def fun3(self):\n",
    "        print(\"Hey there, you are in the child class 2\")\n",
    " \n",
    "#child class 3\n",
    "class child3(Parent):\n",
    "    def fun4(self):\n",
    "        print(\"Hey there, you are in the child class 3\")\n"
   ]
  },
  {
   "cell_type": "code",
   "execution_count": 27,
   "id": "9c52e374-cfaf-47a7-b2d9-ad54fa2835a8",
   "metadata": {},
   "outputs": [],
   "source": [
    "#Example for hybrid inheritance.\n",
    "class A:\n",
    "    def fun1(self):\n",
    "        print(\"Hey there, you are in class A\")\n",
    "class B(A):\n",
    "    def fun2(self):\n",
    "        print(\"Hey there, you are in class B\")\n",
    "class C(A):\n",
    "    def fun3(self):\n",
    "        print(\"Hey there, you are in class C\")\n",
    "class D(C,A): #line 13\n",
    "    def fun4(self):\n",
    "        print(\"Hey there, you are in the class D\")"
   ]
  },
  {
   "cell_type": "code",
   "execution_count": null,
   "id": "848b2747-64df-41ed-952c-2562ccd3be52",
   "metadata": {},
   "outputs": [],
   "source": []
  }
 ],
 "metadata": {
  "kernelspec": {
   "display_name": "Python 3 (ipykernel)",
   "language": "python",
   "name": "python3"
  },
  "language_info": {
   "codemirror_mode": {
    "name": "ipython",
    "version": 3
   },
   "file_extension": ".py",
   "mimetype": "text/x-python",
   "name": "python",
   "nbconvert_exporter": "python",
   "pygments_lexer": "ipython3",
   "version": "3.10.8"
  }
 },
 "nbformat": 4,
 "nbformat_minor": 5
}
