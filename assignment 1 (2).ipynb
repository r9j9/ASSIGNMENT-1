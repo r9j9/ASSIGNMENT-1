{
 "cells": [
  {
   "cell_type": "markdown",
   "id": "081f0997-8b9a-4b35-a578-c71db48f9c32",
   "metadata": {},
   "source": [
    "1. Who developed python programming language?\n",
    "ans. Guido van Rossum.\n",
    "2. Which type of programming does python support?\n",
    "ans. It suports multiple programming paradigms, including structured, object-oriented and functional programming.\n",
    "3. Is python case sensitive when dealing with identifiers?\n",
    "ans. Yes, python is case sensitive language.\n",
    "4. What is the correct extention of the python file?\n",
    "ans. The correct extention of python is .py and can be written in any text editor. we need to use the extention .py to save the files.\n",
    "5. Is python code compiled or interpreted? \n",
    "ans. Python is an interpreted language, which means the sourse code of python program is converted into bytecode is then excuted by python virtual machine.\n",
    "6. Name a few blocks of code used to define in python language?\n",
    "ans. The following blocks are : a module, a function, and a class defination.\n",
    "7. State a character used to give single -line comments in python?\n",
    "ans. By adding a single # character before any statement we can write a single-line comment.\n",
    "8. Mention functions whichg can help us to find the version of pyton that we are curently working on?\n",
    "ans. Following are the functions: \n",
    "        using sys.version method,\n",
    "        using python_version() function,\n",
    "        using Python-V command.\n",
    "9. Python spports the creation of anonymous functions at routime, using a construct called?\n",
    "ans. It supports a name(@runtime). It uses a construct called \"lambda\".\n",
    "10. What does pip stand for python?\n",
    "ans. pip stands for Preferred installer program.\n",
    "11. Mention a few built-in functions in python?\n",
    "ans. print funtion, type funtion, input funtion, abs funtion, pow function, dir function, sorted function, max function etc.\n",
    "12. What is the maximum possible length of an identifier in python? \n",
    "ans. 79 character of maximum length is possible in python.\n",
    "13. What are the benefits of using python?\n",
    "ans. Top reasons to learn python are:\n",
    "        data science\n",
    "        scientific and mathematical computing\n",
    "        web development\n",
    "        finance and trading \n",
    "        system automation and administration\n",
    "        basic game development etc.\n",
    "14. How is memory managed in python?\n",
    "ans. Memory management in python involves a private heap containing all objects and data structures. The management of this heap is ensured internally by the Python memory manager.\n",
    "15. How to install python on windows and set path variables?\n",
    "ans. a. Open a browser to python website and download the windows installer.\n",
    "     b. Double click on the downloded file and install python for all users, and ensure that python is added to             your path. click on install and now to begin.\n",
    "     c. After the installation is complete, click disable path length limit and and then close.\n",
    "     d. Click close to end the istallation.\n",
    "    To set path variables: In the section entitled user variables, double click on the entry that says path. anthor       windows will popup showing a list of paths. click the new button and paste the path to your python executable       there. once that's inserted, selectyouor newly added path and click the mave up button until it's at the top.\n",
    "16. Is indentation required in python?\n",
    "ans. The indentation in python is very important. Python uses indentation to indicate a block of code.\n"
   ]
  }
 ],
 "metadata": {
  "kernelspec": {
   "display_name": "Python 3 (ipykernel)",
   "language": "python",
   "name": "python3"
  },
  "language_info": {
   "codemirror_mode": {
    "name": "ipython",
    "version": 3
   },
   "file_extension": ".py",
   "mimetype": "text/x-python",
   "name": "python",
   "nbconvert_exporter": "python",
   "pygments_lexer": "ipython3",
   "version": "3.10.8"
  }
 },
 "nbformat": 4,
 "nbformat_minor": 5
}
